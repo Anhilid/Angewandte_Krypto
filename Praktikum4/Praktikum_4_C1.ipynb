{
 "cells": [
  {
   "cell_type": "markdown",
   "metadata": {},
   "source": [
    "# AES Implementierung\n",
    "\n",
    "Input = 00 11 22 33 44 55 66 77 88 99 aa bb cc dd ee ff\n",
    "\n",
    "Cipher Key = 00 01 02 03 04 05 06 07 08 09 0a 0b 0c 0d 0e 0f 10 11 12 13 14 15 16 17 18 19 1a 1b 1c 1d 1e 1f\n",
    "\n",
    "NIST_Output = 8ea2b7ca516745bfeafc49904b496089\n",
    "\n",
    "Stimmen Output der entsteht und Output der so sein soll überein"
   ]
  },
  {
   "cell_type": "code",
   "execution_count": 1,
   "metadata": {},
   "outputs": [
    {
     "data": {
      "text/plain": [
       "True"
      ]
     },
     "execution_count": 1,
     "metadata": {},
     "output_type": "execute_result"
    }
   ],
   "source": [
    "from Crypto.Cipher import AES\n",
    "\n",
    "input = bytes.fromhex('00112233445566778899aabbccddeeff')\n",
    "cipher_key = bytes.fromhex('00 01 02 03 04 05 06 07 08 09 0a 0b 0c 0d 0e 0f 10 11 12 13 14 15 16 17 18 19 1a 1b 1c 1d 1e 1f')\n",
    "output = '8ea2b7ca516745bfeafc49904b496089'\n",
    "\n",
    "aes = AES.new(cipher_key, AES.MODE_ECB)\n",
    "my_output = aes.encrypt(input).hex()\n",
    "output == my_output"
   ]
  },
  {
   "cell_type": "markdown",
   "metadata": {},
   "source": []
  }
 ],
 "metadata": {
  "kernelspec": {
   "display_name": "Python 3",
   "language": "python",
   "name": "python3"
  },
  "language_info": {
   "codemirror_mode": {
    "name": "ipython",
    "version": 3
   },
   "file_extension": ".py",
   "mimetype": "text/x-python",
   "name": "python",
   "nbconvert_exporter": "python",
   "pygments_lexer": "ipython3",
   "version": "3.12.3"
  }
 },
 "nbformat": 4,
 "nbformat_minor": 2
}
