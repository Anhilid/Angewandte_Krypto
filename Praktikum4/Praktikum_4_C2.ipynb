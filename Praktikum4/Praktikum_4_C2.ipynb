{
 "cells": [
  {
   "cell_type": "markdown",
   "metadata": {},
   "source": [
    "# Find first two bytes of inital Counter\n",
    "\n",
    "Cipher Key = FF FF FF FF FF FF FF FF FF FF FF FF FF FF FF FF FF FF FF FF FF FF FF FF FF FF FF FF FF FF FF FF\n",
    "\n",
    "Counter = XX XX AA AA AA AA AA AA AA AA AA AA AA AA AA AA"
   ]
  },
  {
   "cell_type": "markdown",
   "metadata": {},
   "source": [
    "Read in file"
   ]
  },
  {
   "cell_type": "code",
   "execution_count": 14,
   "metadata": {},
   "outputs": [],
   "source": [
    "## Read in files\n",
    "# Read in chiffrat\n",
    "en = open('chiffrat.jpg', 'rb')\n",
    "chiffrat = en.read()\n"
   ]
  },
  {
   "cell_type": "markdown",
   "metadata": {},
   "source": [
    "##  AES Implementierung"
   ]
  },
  {
   "cell_type": "code",
   "execution_count": 15,
   "metadata": {},
   "outputs": [],
   "source": [
    "from Crypto.Cipher import AES\n",
    "\n",
    "cipher_key = bytes.fromhex('FF FF FF FF FF FF FF FF FF FF FF FF FF FF FF FF FF FF FF FF FF FF FF FF FF FF FF FF FF FF FF FF')\n",
    "counter_suffix = bytes.fromhex('AA AA AA AA AA AA AA AA AA AA AA AA AA AA')"
   ]
  },
  {
   "cell_type": "code",
   "execution_count": 16,
   "metadata": {},
   "outputs": [],
   "source": [
    "# counter-kandidates erstellen\n",
    "from itertools import product\n",
    "def generate_counter_candidates():\n",
    "    for combination in product('0123456789ABCDEF', repeat=2):\n",
    "        yield list(combination)\n",
    "\n",
    "def get_counter():\n",
    "    counters = []\n",
    "    counter_generator = generate_counter_candidates()\n",
    "    while True:\n",
    "        try:\n",
    "            counters.append(next(counter_generator))\n",
    "        except:\n",
    "            break\n",
    "    return counters\n"
   ]
  },
  {
   "cell_type": "code",
   "execution_count": null,
   "metadata": {},
   "outputs": [],
   "source": [
    "'''\n",
    "count = get_counter()\n",
    "for i in count:\n",
    "    counter_prefix = ''.join(str(c) for c in i)\n",
    "    final_counter = bytes.fromhex(counter_prefix) + counter_suffix\n",
    "    \n",
    "    aes = AES.new(cipher_key, AES.MODE_CTR, counter=final_counter)\n",
    "    my_output = aes.decrypt(chiffrat).hex()\n",
    "    print(my_output)\n",
    "\n",
    "\n",
    "\n",
    "for i in count:\n",
    "    aes = AES.new(cipher_key, AES.MODE_CTR, counter=i)\n",
    "    my_output = aes.decrypt(chiffrat).hex()\n",
    "    print(my_output)\n",
    "    '''"
   ]
  },
  {
   "cell_type": "code",
   "execution_count": 13,
   "metadata": {},
   "outputs": [
    {
     "ename": "TypeError",
     "evalue": "can only concatenate list (not \"bytes\") to list",
     "output_type": "error",
     "traceback": [
      "\u001b[1;31m---------------------------------------------------------------------------\u001b[0m",
      "\u001b[1;31mTypeError\u001b[0m                                 Traceback (most recent call last)",
      "Cell \u001b[1;32mIn[13], line 8\u001b[0m\n\u001b[0;32m      6\u001b[0m ctr_prefix \u001b[38;5;241m=\u001b[39m i\n\u001b[0;32m      7\u001b[0m candidate \u001b[38;5;241m=\u001b[39m Counter\u001b[38;5;241m.\u001b[39mnew(\u001b[38;5;241m128\u001b[39m, prefix\u001b[38;5;241m=\u001b[39mi, suffix\u001b[38;5;241m=\u001b[39mcounter_suffix)\n\u001b[1;32m----> 8\u001b[0m aes \u001b[38;5;241m=\u001b[39m \u001b[43mAES\u001b[49m\u001b[38;5;241;43m.\u001b[39;49m\u001b[43mnew\u001b[49m\u001b[43m(\u001b[49m\u001b[43mcipher_key\u001b[49m\u001b[43m,\u001b[49m\u001b[43m \u001b[49m\u001b[43mAES\u001b[49m\u001b[38;5;241;43m.\u001b[39;49m\u001b[43mMODE_CTR\u001b[49m\u001b[43m,\u001b[49m\u001b[43m \u001b[49m\u001b[43mcounter\u001b[49m\u001b[38;5;241;43m=\u001b[39;49m\u001b[43mcandidate\u001b[49m\u001b[43m)\u001b[49m\n\u001b[0;32m      9\u001b[0m \u001b[38;5;28;01mif\u001b[39;00m (aes\u001b[38;5;241m.\u001b[39mdecrypt(chiffrat)):\n\u001b[0;32m     10\u001b[0m     \u001b[38;5;28mprint\u001b[39m(candidate)\n",
      "File \u001b[1;32m~\\AppData\\Local\\Packages\\PythonSoftwareFoundation.Python.3.12_qbz5n2kfra8p0\\LocalCache\\local-packages\\Python312\\site-packages\\Crypto\\Cipher\\AES.py:228\u001b[0m, in \u001b[0;36mnew\u001b[1;34m(key, mode, *args, **kwargs)\u001b[0m\n\u001b[0;32m    128\u001b[0m \u001b[38;5;250m\u001b[39m\u001b[38;5;124;03m\"\"\"Create a new AES cipher.\u001b[39;00m\n\u001b[0;32m    129\u001b[0m \n\u001b[0;32m    130\u001b[0m \u001b[38;5;124;03mArgs:\u001b[39;00m\n\u001b[1;32m   (...)\u001b[0m\n\u001b[0;32m    224\u001b[0m \u001b[38;5;124;03m    an AES object, of the applicable mode.\u001b[39;00m\n\u001b[0;32m    225\u001b[0m \u001b[38;5;124;03m\"\"\"\u001b[39;00m\n\u001b[0;32m    227\u001b[0m kwargs[\u001b[38;5;124m\"\u001b[39m\u001b[38;5;124madd_aes_modes\u001b[39m\u001b[38;5;124m\"\u001b[39m] \u001b[38;5;241m=\u001b[39m \u001b[38;5;28;01mTrue\u001b[39;00m\n\u001b[1;32m--> 228\u001b[0m \u001b[38;5;28;01mreturn\u001b[39;00m \u001b[43m_create_cipher\u001b[49m\u001b[43m(\u001b[49m\u001b[43msys\u001b[49m\u001b[38;5;241;43m.\u001b[39;49m\u001b[43mmodules\u001b[49m\u001b[43m[\u001b[49m\u001b[38;5;18;43m__name__\u001b[39;49m\u001b[43m]\u001b[49m\u001b[43m,\u001b[49m\u001b[43m \u001b[49m\u001b[43mkey\u001b[49m\u001b[43m,\u001b[49m\u001b[43m \u001b[49m\u001b[43mmode\u001b[49m\u001b[43m,\u001b[49m\u001b[43m \u001b[49m\u001b[38;5;241;43m*\u001b[39;49m\u001b[43margs\u001b[49m\u001b[43m,\u001b[49m\u001b[43m \u001b[49m\u001b[38;5;241;43m*\u001b[39;49m\u001b[38;5;241;43m*\u001b[39;49m\u001b[43mkwargs\u001b[49m\u001b[43m)\u001b[49m\n",
      "File \u001b[1;32m~\\AppData\\Local\\Packages\\PythonSoftwareFoundation.Python.3.12_qbz5n2kfra8p0\\LocalCache\\local-packages\\Python312\\site-packages\\Crypto\\Cipher\\__init__.py:79\u001b[0m, in \u001b[0;36m_create_cipher\u001b[1;34m(factory, key, mode, *args, **kwargs)\u001b[0m\n\u001b[0;32m     76\u001b[0m     \u001b[38;5;28;01melif\u001b[39;00m mode \u001b[38;5;241m==\u001b[39m \u001b[38;5;241m1\u001b[39m:\n\u001b[0;32m     77\u001b[0m         \u001b[38;5;28;01mraise\u001b[39;00m \u001b[38;5;167;01mTypeError\u001b[39;00m(\u001b[38;5;124m\"\u001b[39m\u001b[38;5;124mIV is not meaningful for the ECB mode\u001b[39m\u001b[38;5;124m\"\u001b[39m)\n\u001b[1;32m---> 79\u001b[0m \u001b[38;5;28;01mreturn\u001b[39;00m \u001b[43mmodes\u001b[49m\u001b[43m[\u001b[49m\u001b[43mmode\u001b[49m\u001b[43m]\u001b[49m\u001b[43m(\u001b[49m\u001b[43mfactory\u001b[49m\u001b[43m,\u001b[49m\u001b[43m \u001b[49m\u001b[38;5;241;43m*\u001b[39;49m\u001b[38;5;241;43m*\u001b[39;49m\u001b[43mkwargs\u001b[49m\u001b[43m)\u001b[49m\n",
      "File \u001b[1;32m~\\AppData\\Local\\Packages\\PythonSoftwareFoundation.Python.3.12_qbz5n2kfra8p0\\LocalCache\\local-packages\\Python312\\site-packages\\Crypto\\Cipher\\_mode_ctr.py:385\u001b[0m, in \u001b[0;36m_create_ctr_cipher\u001b[1;34m(factory, **kwargs)\u001b[0m\n\u001b[0;32m    383\u001b[0m \u001b[38;5;28;01mif\u001b[39;00m \u001b[38;5;129;01mnot\u001b[39;00m little_endian:\n\u001b[0;32m    384\u001b[0m     words\u001b[38;5;241m.\u001b[39mreverse()\n\u001b[1;32m--> 385\u001b[0m initial_counter_block \u001b[38;5;241m=\u001b[39m \u001b[43mprefix\u001b[49m\u001b[43m \u001b[49m\u001b[38;5;241;43m+\u001b[39;49m\u001b[43m \u001b[49m\u001b[38;5;124;43mb\u001b[39;49m\u001b[38;5;124;43m\"\u001b[39;49m\u001b[38;5;124;43m\"\u001b[39;49m\u001b[38;5;241;43m.\u001b[39;49m\u001b[43mjoin\u001b[49m\u001b[43m(\u001b[49m\u001b[43mwords\u001b[49m\u001b[43m)\u001b[49m \u001b[38;5;241m+\u001b[39m suffix\n\u001b[0;32m    387\u001b[0m \u001b[38;5;28;01mif\u001b[39;00m \u001b[38;5;28mlen\u001b[39m(initial_counter_block) \u001b[38;5;241m!=\u001b[39m factory\u001b[38;5;241m.\u001b[39mblock_size:\n\u001b[0;32m    388\u001b[0m     \u001b[38;5;28;01mraise\u001b[39;00m \u001b[38;5;167;01mValueError\u001b[39;00m(\u001b[38;5;124m\"\u001b[39m\u001b[38;5;124mSize of the counter block (\u001b[39m\u001b[38;5;132;01m%d\u001b[39;00m\u001b[38;5;124m bytes) must match\u001b[39m\u001b[38;5;124m\"\u001b[39m\n\u001b[0;32m    389\u001b[0m                      \u001b[38;5;124m\"\u001b[39m\u001b[38;5;124m block size (\u001b[39m\u001b[38;5;132;01m%d\u001b[39;00m\u001b[38;5;124m)\u001b[39m\u001b[38;5;124m\"\u001b[39m \u001b[38;5;241m%\u001b[39m (\u001b[38;5;28mlen\u001b[39m(initial_counter_block),\n\u001b[0;32m    390\u001b[0m                                            factory\u001b[38;5;241m.\u001b[39mblock_size))\n",
      "\u001b[1;31mTypeError\u001b[0m: can only concatenate list (not \"bytes\") to list"
     ]
    }
   ],
   "source": [
    "from Crypto.Cipher import AES\n",
    "from Crypto.Util import Counter\n",
    "\n",
    "count = get_counter()\n",
    "for i in count:\n",
    "    ctr_prefix = bytes.fromhex(i)\n",
    "    candidate = Counter.new(128, prefix=i, suffix=counter_suffix)\n",
    "    aes = AES.new(cipher_key, AES.MODE_CTR, counter=candidate)\n",
    "    if (aes.decrypt(chiffrat)):\n",
    "        print(candidate)\n",
    "        print(aes.decrypt(chiffrat))"
   ]
  }
 ],
 "metadata": {
  "kernelspec": {
   "display_name": "Python 3",
   "language": "python",
   "name": "python3"
  },
  "language_info": {
   "codemirror_mode": {
    "name": "ipython",
    "version": 3
   },
   "file_extension": ".py",
   "mimetype": "text/x-python",
   "name": "python",
   "nbconvert_exporter": "python",
   "pygments_lexer": "ipython3",
   "version": "3.12.3"
  }
 },
 "nbformat": 4,
 "nbformat_minor": 2
}
