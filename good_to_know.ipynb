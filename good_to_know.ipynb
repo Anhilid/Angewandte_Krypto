{
 "cells": [
  {
   "cell_type": "markdown",
   "metadata": {},
   "source": [
    "for-lop"
   ]
  },
  {
   "cell_type": "code",
   "execution_count": 1,
   "metadata": {},
   "outputs": [
    {
     "name": "stdout",
     "output_type": "stream",
     "text": [
      "0 3\n",
      "1 4\n",
      "2 42\n",
      "3 3\n",
      "4 2\n",
      "5 4\n"
     ]
    }
   ],
   "source": [
    "x = [3,4,42,3,2,4]\n",
    "\n",
    "for i,element in enumerate(x):\n",
    "    print(i, element)"
   ]
  },
  {
   "cell_type": "markdown",
   "metadata": {},
   "source": [
    "Dictonaries"
   ]
  },
  {
   "cell_type": "code",
   "execution_count": 9,
   "metadata": {},
   "outputs": [
    {
     "name": "stdout",
     "output_type": "stream",
     "text": [
      "Get the whole dictonary: {'key': 4, 'key2': 5, 'key3': [2, 3, 6, 7, 8]}\n",
      "Get the value fo key 4\n",
      "Get the list of values in dictonary: [4, 5]\n",
      "Get the list of key in dictonary: ['key', 'key2']\n",
      "key and value key2 5\n",
      "key and x[key] key2 5\n",
      "key and value key3 [2, 3, 6, 7, 8]\n",
      "key and x[key] key3 [2, 3, 6, 7, 8]\n"
     ]
    }
   ],
   "source": [
    "x = {'key' : 4}\n",
    "x['key2'] = 5\n",
    "x['key3'] = [2,3,6,7,8]\n",
    "\n",
    "print(\"Get the whole dictonary:\", x)\n",
    "print(\"Get the value fo key\", x['key'])\n",
    "\n",
    "y = {'key' : 4, 'key2' : 5}\n",
    "print(\"Get the list of values in dictonary:\", list(y.values())) # geht nicht mit x\n",
    "print(\"Get the list of key in dictonary:\", list(y.keys()))\n",
    "del x['key'] #delete \n",
    "\n",
    "for key,value in x.items():\n",
    "    print(\"key and value\", key,value)\n",
    "    print(\"key and x[key]\", key, x[key])"
   ]
  },
  {
   "cell_type": "markdown",
   "metadata": {},
   "source": [
    "Lists"
   ]
  },
  {
   "cell_type": "code",
   "execution_count": 14,
   "metadata": {},
   "outputs": [
    {
     "name": "stdout",
     "output_type": "stream",
     "text": [
      "[0, 1, 2, 3, 4]\n",
      "[5, 6, 7, 8, 9]\n",
      "[0, 0, 0, 0, 0]\n",
      "5 lists, that each have 20 zeros: [[0, 0, 0, 0, 0, 0, 0, 0, 0, 0, 0, 0, 0, 0, 0, 0, 0, 0, 0, 0], [0, 0, 0, 0, 0, 0, 0, 0, 0, 0, 0, 0, 0, 0, 0, 0, 0, 0, 0, 0], [0, 0, 0, 0, 0, 0, 0, 0, 0, 0, 0, 0, 0, 0, 0, 0, 0, 0, 0, 0], [0, 0, 0, 0, 0, 0, 0, 0, 0, 0, 0, 0, 0, 0, 0, 0, 0, 0, 0, 0], [0, 0, 0, 0, 0, 0, 0, 0, 0, 0, 0, 0, 0, 0, 0, 0, 0, 0, 0, 0]]\n",
      "get all numbers dividable by 5: [0, 5, 10, 15, 20, 25, 30, 35, 40, 45, 50, 55, 60, 65, 70, 75, 80, 85, 90, 95]\n",
      "{0: 0, 5: 0, 10: 0, 15: 0, 20: 0, 25: 0, 30: 0, 35: 0, 40: 0, 45: 0, 50: 0, 55: 0, 60: 0, 65: 0, 70: 0, 75: 0, 80: 0, 85: 0, 90: 0, 95: 0}\n"
     ]
    }
   ],
   "source": [
    "x = [x for x in range(5)]\n",
    "print(x)\n",
    "\n",
    "y = [y+5 for y in range(5)]\n",
    "print(y)\n",
    "\n",
    "z = [0 for z in range(5)]\n",
    "print(z)\n",
    "\n",
    "a = [[0 for x in range(20)] for x in range(5)] #5 lists, that each have 20 zeros\n",
    "b = [i for i in range(100) if i % 5 == 0] #get all numbers dividable by 5\n",
    "\n",
    "print(\"5 lists, that each have 20 zeros:\", a)\n",
    "print(\"get all numbers dividable by 5:\", b)\n",
    "\n",
    "d = {i : 0 for i in range(100) if i % 5 == 0}\n",
    "print(d)"
   ]
  },
  {
   "cell_type": "markdown",
   "metadata": {},
   "source": [
    "Define functions"
   ]
  },
  {
   "cell_type": "code",
   "execution_count": 20,
   "metadata": {},
   "outputs": [
    {
     "name": "stdout",
     "output_type": "stream",
     "text": [
      "Run 5 6\n",
      "30 0.8333333333333334\n"
     ]
    }
   ],
   "source": [
    "def func(x, y, z=None): #if input is 5,6,7 than z is overwritten by 7\n",
    "    print('Run', x, y)\n",
    "    return x*y, x/y\n",
    "r1, r2 = func(5, 6)\n",
    "print(r1,r2)"
   ]
  },
  {
   "cell_type": "markdown",
   "metadata": {},
   "source": [
    "More complex functions"
   ]
  },
  {
   "cell_type": "code",
   "execution_count": 33,
   "metadata": {},
   "outputs": [
    {
     "name": "stdout",
     "output_type": "stream",
     "text": [
      "Unpacked List: 1 23 236363 2727\n",
      "Return x as we know it: [1, 23, 236363, 2727]\n",
      "print unpacke pairs\n",
      "1 2\n",
      "3 4\n",
      "4 5\n"
     ]
    }
   ],
   "source": [
    "def fun(*args, **kwargs): #*args and **kwargs allows us to pass in as many arguments as we want\n",
    "    #unpack\n",
    "    #pass the elements of the list in individual elements\n",
    "    pass\n",
    "x = [1, 23, 236363, 2727]\n",
    "print(\"Unpacked List:\", *x)\n",
    "print(\"Return x as we know it:\", x)\n",
    "\n",
    "#How you use it\n",
    "print(\"print unpacke pairs\")\n",
    "def fun2(x,y):\n",
    "    print(x,y)\n",
    "pairs = [(1,2), (3,4)]\n",
    "for pair in pairs:\n",
    "    fun2(*pair) #unpacks the (1,2) and (3,4) and passes that to the funktion fun2\n",
    "\n",
    "#also works with dictonaries\n",
    "def fun3(key, key2):\n",
    "    print(key, key2)\n",
    "    \n",
    "x = {'key' : 4}\n",
    "x['key2'] = 5\n",
    "fun3(**x) "
   ]
  },
  {
   "cell_type": "code",
   "execution_count": 36,
   "metadata": {},
   "outputs": [
    {
     "name": "stdout",
     "output_type": "stream",
     "text": [
      "[6, 7, 8, 9, 10, 11, 26, 8, 36, 7, 9]\n"
     ]
    }
   ],
   "source": [
    "x = [1,2,3,4,5,6,21,3,31,2,4]\n",
    "\n",
    "mp = map(lambda i: i +5, x)\n",
    "print(list(mp))\n",
    "#there is also filter"
   ]
  },
  {
   "cell_type": "markdown",
   "metadata": {},
   "source": [
    "F-Strings"
   ]
  },
  {
   "cell_type": "code",
   "execution_count": 38,
   "metadata": {},
   "outputs": [
    {
     "name": "stdout",
     "output_type": "stream",
     "text": [
      "hello 14\n"
     ]
    }
   ],
   "source": [
    "x = f'hello {6+8}'\n",
    "\n",
    "print(x)"
   ]
  }
 ],
 "metadata": {
  "kernelspec": {
   "display_name": "Python 3",
   "language": "python",
   "name": "python3"
  },
  "language_info": {
   "codemirror_mode": {
    "name": "ipython",
    "version": 3
   },
   "file_extension": ".py",
   "mimetype": "text/x-python",
   "name": "python",
   "nbconvert_exporter": "python",
   "pygments_lexer": "ipython3",
   "version": "3.12.3"
  }
 },
 "nbformat": 4,
 "nbformat_minor": 2
}
